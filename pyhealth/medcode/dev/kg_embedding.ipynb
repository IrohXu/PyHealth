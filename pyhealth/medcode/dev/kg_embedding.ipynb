{
 "cells": [
  {
   "cell_type": "markdown",
   "metadata": {},
   "source": [
    "# Notebook for Pre-trained Knowledge Graph Embedding (on UMLS)"
   ]
  },
  {
   "cell_type": "code",
   "execution_count": 84,
   "metadata": {},
   "outputs": [],
   "source": [
    "## Import packages\n",
    "\n",
    "import csv\n",
    "import pandas as pd\n",
    "import torch\n",
    "import numpy as np\n",
    "from tqdm import tqdm\n",
    "from collections import defaultdict\n",
    "from pyhealth.medcode import ICD9CM, ICD9PROC\n",
    "from pyhealth.medcode.pretrained_embeddings.kg_emb.models import TransE, RotatE, ComplEx, DistMult\n",
    "from pyhealth.medcode.pretrained_embeddings.kg_emb.datasets import UMLSDataset, split\n",
    "from pyhealth.medcode.pretrained_embeddings.kg_emb.tasks import link_prediction_fn"
   ]
  },
  {
   "cell_type": "markdown",
   "metadata": {},
   "source": [
    "## Load Pre-trained KGE model"
   ]
  },
  {
   "cell_type": "code",
   "execution_count": null,
   "metadata": {},
   "outputs": [],
   "source": [
    "umls_ds = UMLSDataset(\n",
    "    root=\"/data/pj20/umls/\",\n",
    "    # root=\"https://storage.googleapis.com/pyhealth/umls/\",\n",
    "    dev=False,\n",
    "    refresh_cache=False\n",
    ")\n",
    "\n",
    "# check the dataset statistics before setting task\n",
    "print(umls_ds.stat()) \n",
    "\n",
    "# check the relation numbers in the dataset\n",
    "print(\"Relations in KG:\", umls_ds.relation2id)\n",
    "\n",
    "umls_ds = umls_ds.set_task(link_prediction_fn, negative_sampling=64, save=False)\n",
    "\n",
    "model = TransE(\n",
    "    dataset=umls_ds,\n",
    "    e_dim=512, \n",
    "    r_dim=512, \n",
    ")\n",
    "\n",
    "print('Loaded model: ', model)\n",
    "state_dict = torch.load(\"/data/pj20/umls_kge/pretrained_model/umls_transe_new/1_250000_last.ckpt\")\n",
    "model.load_state_dict(state_dict)"
   ]
  },
  {
   "cell_type": "code",
   "execution_count": null,
   "metadata": {},
   "outputs": [],
   "source": [
    "import pickle\n",
    "\n",
    "with open(\"/data/pj20/umls_kge/pretrained_model/umls_transe_new/model.pkl\", \"wb\") as f:\n",
    "    pickle.dump(model, f)\n"
   ]
  },
  {
   "cell_type": "code",
   "execution_count": null,
   "metadata": {},
   "outputs": [],
   "source": [
    "len(model.R_emb), len(model.E_emb)"
   ]
  },
  {
   "cell_type": "code",
   "execution_count": null,
   "metadata": {},
   "outputs": [],
   "source": [
    "with open(\"/data/pj20/umls_kge/pretrained_model/umls_transe_new/E_emb.pkl\", \"wb\") as f:\n",
    "    pickle.dump(model.E_emb, f)\n",
    "\n",
    "with open(\"/data/pj20/umls_kge/pretrained_model/umls_transe_new/R_emb.pkl\", \"wb\") as f:\n",
    "    pickle.dump(model.R_emb, f)"
   ]
  },
  {
   "cell_type": "markdown",
   "metadata": {},
   "source": [
    "### Load Pre-trained Entity Embedding and Relation Embedding"
   ]
  },
  {
   "cell_type": "code",
   "execution_count": 1,
   "metadata": {},
   "outputs": [
    {
     "name": "stderr",
     "output_type": "stream",
     "text": [
      "/home/pj20/miniconda3/envs/txgnn_env/lib/python3.8/site-packages/tqdm/auto.py:21: TqdmWarning: IProgress not found. Please update jupyter and ipywidgets. See https://ipywidgets.readthedocs.io/en/stable/user_install.html\n",
      "  from .autonotebook import tqdm as notebook_tqdm\n"
     ]
    }
   ],
   "source": [
    "import pickle\n",
    "\n",
    "with open(\"/data/pj20/umls_kge/pretrained_model/umls_transe_new/E_emb.pkl\", \"rb\") as f:\n",
    "    E_emb = pickle.load(f)\n",
    "\n",
    "with open(\"/data/pj20/umls_kge/pretrained_model/umls_transe_new/R_emb.pkl\", \"rb\") as f:\n",
    "    R_emb = pickle.load(f)"
   ]
  },
  {
   "cell_type": "code",
   "execution_count": 2,
   "metadata": {},
   "outputs": [],
   "source": [
    "import json\n",
    "\n",
    "with open(\"/data/pj20/umls_kge/pretrained_model/umls_transe_new/id2entity.json\", \"r\") as f:\n",
    "    id2entity = json.load(f)\n",
    "\n",
    "with open(\"/data/pj20/umls_kge/pretrained_model/umls_transe_new/id2relation.json\", \"r\") as f:\n",
    "    id2relation = json.load(f)\n",
    "\n",
    "entity2id = {v: k for k, v in id2entity.items()}\n",
    "relation2id = {v: k for k, v in id2relation.items()}"
   ]
  },
  {
   "cell_type": "markdown",
   "metadata": {},
   "source": [
    "## ATC"
   ]
  },
  {
   "cell_type": "code",
   "execution_count": 21,
   "metadata": {},
   "outputs": [],
   "source": [
    "# load the mapping from ATC to UMLS\n",
    "atc_umls = pd.read_csv(\"../resource/ATC_to_UMLS.csv\", header=None)\n",
    "atc_umls_cuis = atc_umls[1].tolist()[1:]\n"
   ]
  },
  {
   "cell_type": "code",
   "execution_count": 22,
   "metadata": {},
   "outputs": [
    {
     "name": "stderr",
     "output_type": "stream",
     "text": [
      "100%|██████████| 6564/6564 [00:00<00:00, 680863.87it/s]\n"
     ]
    },
    {
     "data": {
      "text/plain": [
       "(0, [])"
      ]
     },
     "execution_count": 22,
     "metadata": {},
     "output_type": "execute_result"
    }
   ],
   "source": [
    "# Check if there are any ATC codes that are not in the UMLS\n",
    "\n",
    "cnt = 0\n",
    "not_covered_cui_atc = []\n",
    "for cui in tqdm(atc_umls_cuis):\n",
    "    if cui not in entity2id.keys():\n",
    "        not_covered_cui_atc.append(cui)\n",
    "        cnt+=1\n",
    "\n",
    "cnt, not_covered_cui_atc"
   ]
  },
  {
   "cell_type": "code",
   "execution_count": 52,
   "metadata": {},
   "outputs": [
    {
     "name": "stderr",
     "output_type": "stream",
     "text": [
      "100%|██████████| 6565/6565 [00:00<00:00, 56700.56it/s]\n",
      "100%|██████████| 6564/6564 [00:00<00:00, 28065.41it/s]\n"
     ]
    }
   ],
   "source": [
    "# get the embeddings\n",
    "\n",
    "atc_to_umls = {}\n",
    "for i in tqdm(range(len(atc_umls))):\n",
    "    if atc_umls[1][i] != \"UMLS\":\n",
    "        atc_to_umls[atc_umls[0][i]] = atc_umls[1][i]\n",
    "\n",
    "atc_id2emb = {}\n",
    "for atc_id in tqdm(atc_to_umls.keys()):\n",
    "    atc_id2emb[atc_id] = E_emb[int(entity2id[atc_to_umls[atc_id]])].detach().numpy().tolist()\n",
    "\n",
    "with open(f\"../resource/embeddings/KG/drugs/atc.json\", \"w\") as f:\n",
    "    json.dump(atc_id2emb, f, indent=6)\n"
   ]
  },
  {
   "cell_type": "markdown",
   "metadata": {},
   "source": [
    "## ICD-9-CM"
   ]
  },
  {
   "cell_type": "code",
   "execution_count": 27,
   "metadata": {},
   "outputs": [],
   "source": [
    "# load the mapping from ICD-9-CM to UMLS\n",
    "icd9cm_umls = pd.read_csv(\"../resource/ICD9CM_to_UMLS.csv\", header=None)\n",
    "icd9cm_umls_cuis = icd9cm_umls[1].tolist()[1:]"
   ]
  },
  {
   "cell_type": "code",
   "execution_count": 29,
   "metadata": {},
   "outputs": [
    {
     "name": "stderr",
     "output_type": "stream",
     "text": [
      "100%|██████████| 22406/22406 [00:00<00:00, 1022428.91it/s]\n"
     ]
    },
    {
     "data": {
      "text/plain": [
       "(0, [])"
      ]
     },
     "execution_count": 29,
     "metadata": {},
     "output_type": "execute_result"
    }
   ],
   "source": [
    "# Check if there are any ICD-9-CM codes that are not in the UMLS\n",
    "\n",
    "cnt = 0\n",
    "not_covered_cui_icd9cm = []\n",
    "for cui in tqdm(icd9cm_umls_cuis):\n",
    "    if cui not in entity2id.keys():\n",
    "        not_covered_cui_icd9cm.append(cui)\n",
    "        cnt+=1\n",
    "\n",
    "cnt, not_covered_cui_icd9cm"
   ]
  },
  {
   "cell_type": "code",
   "execution_count": null,
   "metadata": {},
   "outputs": [],
   "source": [
    "atc_to_umls = {}\n",
    "for i in tqdm(range(len(atc_umls))):\n",
    "    if atc_umls[1][i] != \"UMLS\":\n",
    "        atc_to_umls[atc_umls[0][i]] = atc_umls[1][i]\n",
    "\n",
    "atc_id2emb = {}\n",
    "for atc_id in tqdm(atc_to_umls.keys()):\n",
    "    atc_id2emb[atc_id] = E_emb[int(entity2id[atc_to_umls[atc_id]])].detach().numpy().tolist()\n",
    "\n",
    "with open(f\"../resource/embeddings/KG/drugs/atc.json\", \"w\") as f:\n",
    "    json.dump(atc_id2emb, f, indent=6)"
   ]
  },
  {
   "cell_type": "code",
   "execution_count": 66,
   "metadata": {},
   "outputs": [
    {
     "name": "stderr",
     "output_type": "stream",
     "text": [
      "100%|██████████| 22407/22407 [00:00<00:00, 79102.78it/s]\n",
      "100%|██████████| 22406/22406 [00:00<00:00, 48074.67it/s]\n"
     ]
    }
   ],
   "source": [
    "# get the embeddings\n",
    "\n",
    "icd9cm_to_umls = {}\n",
    "for i in tqdm(range(len(icd9cm_umls))):\n",
    "    if icd9cm_umls[1][i] != \"UMLS\":\n",
    "        icd9cm_to_umls[icd9cm_umls[0][i]] = icd9cm_umls[1][i]\n",
    "\n",
    "icd9cm_id2emb = {}\n",
    "for icd9cm_id in tqdm(icd9cm_to_umls.keys()):\n",
    "    key = ICD9CM.standardize(icd9cm_id).replace('.', '')\n",
    "    icd9cm_id2emb[key] = E_emb[int(entity2id[icd9cm_to_umls[icd9cm_id]])].detach().numpy().tolist()\n",
    "\n",
    "with open(f\"../resource/embeddings/KG/conditions/icd9cm.json\", \"w\") as f:\n",
    "    json.dump(icd9cm_id2emb, f, indent=6)"
   ]
  },
  {
   "cell_type": "markdown",
   "metadata": {},
   "source": [
    "## ICD-9-PROC"
   ]
  },
  {
   "cell_type": "code",
   "execution_count": 90,
   "metadata": {},
   "outputs": [],
   "source": [
    "# load the mapping from ICD-9-proc to UMLS\n",
    "icd9proc_umls = pd.read_csv(\"../resource/ICD9CM_to_UMLS.csv\", header=None)\n",
    "icd9proc_umls_cuis = icd9proc_umls[1].tolist()[1:]"
   ]
  },
  {
   "cell_type": "code",
   "execution_count": 91,
   "metadata": {},
   "outputs": [
    {
     "name": "stderr",
     "output_type": "stream",
     "text": [
      "100%|██████████| 22406/22406 [00:00<00:00, 1076218.77it/s]\n"
     ]
    },
    {
     "data": {
      "text/plain": [
       "(0, [])"
      ]
     },
     "execution_count": 91,
     "metadata": {},
     "output_type": "execute_result"
    }
   ],
   "source": [
    "# Check if there are any ICD-9-proc codes that are not in the UMLS\n",
    "\n",
    "cnt = 0\n",
    "not_covered_cui_icd9proc = []\n",
    "for cui in tqdm(icd9proc_umls_cuis):\n",
    "    if cui not in entity2id.keys():\n",
    "        not_covered_cui_icd9proc.append(cui)\n",
    "        cnt+=1\n",
    "\n",
    "cnt, not_covered_cui_icd9proc"
   ]
  },
  {
   "cell_type": "code",
   "execution_count": 92,
   "metadata": {},
   "outputs": [
    {
     "name": "stderr",
     "output_type": "stream",
     "text": [
      "100%|██████████| 22407/22407 [00:00<00:00, 104368.29it/s]\n",
      "100%|██████████| 22406/22406 [00:00<00:00, 54029.07it/s]\n"
     ]
    }
   ],
   "source": [
    "# get the embeddings\n",
    "\n",
    "icd9proc_to_umls = {}\n",
    "for i in tqdm(range(len(icd9proc_umls))):\n",
    "    if icd9proc_umls[1][i] != \"UMLS\":\n",
    "        icd9proc_to_umls[icd9proc_umls[0][i]] = icd9proc_umls[1][i]\n",
    "\n",
    "icd9proc_id2emb = {}\n",
    "for icd9proc_id in tqdm(icd9proc_to_umls.keys()):\n",
    "    key = ICD9PROC.standardize(icd9proc_id).replace('.', '')\n",
    "    icd9proc_id2emb[key] = E_emb[int(entity2id[icd9proc_to_umls[icd9proc_id]])].detach().numpy().tolist()\n",
    "\n",
    "with open(f\"../resource/embeddings/KG/procedures/icd9proc.json\", \"w\") as f:\n",
    "    json.dump(icd9proc_id2emb, f, indent=6)"
   ]
  },
  {
   "cell_type": "markdown",
   "metadata": {},
   "source": [
    "## CCSCM"
   ]
  },
  {
   "cell_type": "code",
   "execution_count": 70,
   "metadata": {},
   "outputs": [],
   "source": [
    "icd9cm_to_ccscm = {}\n",
    "\n",
    "with open(\"../resource/ICD9CM_to_CCSCM.csv\", \"r\") as f:\n",
    "    reader = csv.reader(f)\n",
    "    for row in reader:\n",
    "        if row[1] != 'CCSCM':\n",
    "            icd9cm_to_ccscm[row[0]] = row[1]\n",
    "\n",
    "ccscm_to_icd9cm = defaultdict(list)\n",
    "for k, v in icd9cm_to_ccscm.items():\n",
    "    ccscm_to_icd9cm[v].append(k)\n",
    "\n",
    "ccscm_icd9cm = {}\n",
    "for k, v in ccscm_to_icd9cm.items():\n",
    "    ccscm_icd9cm[k] = v[0]"
   ]
  },
  {
   "cell_type": "code",
   "execution_count": 73,
   "metadata": {},
   "outputs": [
    {
     "name": "stderr",
     "output_type": "stream",
     "text": [
      "100%|██████████| 283/283 [00:00<00:00, 32360.63it/s]\n"
     ]
    }
   ],
   "source": [
    "# get the embeddings\n",
    "ccscm_id2emb = {}\n",
    "for ccscm_id in tqdm(ccscm_icd9cm.keys()):\n",
    "    try:\n",
    "        ccscm_id2emb[ccscm_id] = E_emb[int(entity2id[icd9cm_to_umls[ccscm_icd9cm[ccscm_id]]])].detach().numpy().tolist()\n",
    "    except:\n",
    "        ccscm_id2emb[ccscm_id] = E_emb[int(entity2id[icd9cm_to_umls[ccscm_icd9cm[ccscm_id].replace('.00', '')]])].detach().numpy().tolist()\n",
    "\n",
    "with open(f\"../resource/embeddings/KG/conditions/ccscm.json\", \"w\") as f:\n",
    "    json.dump(ccscm_id2emb, f, indent=6)"
   ]
  },
  {
   "cell_type": "markdown",
   "metadata": {},
   "source": [
    "## CCSPROC"
   ]
  },
  {
   "cell_type": "code",
   "execution_count": 74,
   "metadata": {},
   "outputs": [],
   "source": [
    "icd9proc_to_ccsproc = {}\n",
    "\n",
    "with open(\"../resource/ICD9PROC_to_CCSPROC.csv\", \"r\") as f:\n",
    "    reader = csv.reader(f)\n",
    "    for row in reader:\n",
    "        if row[1] != 'CCSPROC':\n",
    "            icd9proc_to_ccsproc[row[0]] = row[1]\n",
    "\n",
    "ccsproc_to_icd9proc = defaultdict(list)\n",
    "for k, v in icd9proc_to_ccsproc.items():\n",
    "    ccsproc_to_icd9proc[v].append(k)\n",
    "\n",
    "ccsproc_icd9proc = {}\n",
    "for k, v in ccsproc_to_icd9proc.items():\n",
    "    ccsproc_icd9proc[k] = v[0]"
   ]
  },
  {
   "cell_type": "code",
   "execution_count": 82,
   "metadata": {},
   "outputs": [
    {
     "name": "stderr",
     "output_type": "stream",
     "text": [
      "100%|██████████| 231/231 [00:00<00:00, 49372.41it/s]\n"
     ]
    }
   ],
   "source": [
    "# get the embeddings\n",
    "ccsproc_id2emb = {}\n",
    "for ccsproc_id in tqdm(ccsproc_icd9proc.keys()):\n",
    "    try:\n",
    "        ccsproc_id2emb[ccsproc_id] = E_emb[int(entity2id[icd9proc_to_umls[ccsproc_icd9proc[ccsproc_id]]])].detach().numpy().tolist()\n",
    "    except:\n",
    "        try:\n",
    "            icd9procid = ccsproc_icd9proc[ccsproc_id]\n",
    "            if icd9procid[0] == '0':\n",
    "                icd9procid = icd9procid[1:]\n",
    "            if icd9procid[-1] == '0':\n",
    "                icd9procid = icd9procid[:-1]\n",
    "            if icd9procid[-1] == '0':\n",
    "                icd9procid = icd9procid[:-2]\n",
    "            if icd9procid[-1] == '.':\n",
    "                icd9procid = icd9procid[:-1]\n",
    "\n",
    "            ccsproc_id2emb[ccsproc_id] = E_emb[int(entity2id[icd9proc_to_umls[icd9procid]])].detach().numpy().tolist()\n",
    "            \n",
    "        except:\n",
    "            icd9procid = icd9procid[:-1]\n",
    "            ccsproc_id2emb[ccsproc_id] = E_emb[int(entity2id[icd9proc_to_umls[icd9procid]])].detach().numpy().tolist()\n",
    "\n",
    "with open(f\"../resource/embeddings/KG/procedures/ccsproc.json\", \"w\") as f:\n",
    "    json.dump(ccsproc_id2emb, f, indent=6)"
   ]
  },
  {
   "cell_type": "markdown",
   "metadata": {},
   "source": [
    "## Special Tokens"
   ]
  },
  {
   "cell_type": "code",
   "execution_count": 57,
   "metadata": {},
   "outputs": [],
   "source": [
    "special_tokens = {}\n",
    "tokens = ['<pad>', '<unk>']\n",
    "\n",
    "for token in tokens:\n",
    "    special_tokens[token] = np.random.randn(512).tolist()\n",
    "\n",
    "with open(f\"../resource/embeddings/KG/special_tokens/special_tokens.json\", \"w\") as f:\n",
    "    json.dump(special_tokens, f, indent=6)"
   ]
  },
  {
   "cell_type": "code",
   "execution_count": null,
   "metadata": {},
   "outputs": [],
   "source": []
  }
 ],
 "metadata": {
  "kernelspec": {
   "display_name": "Python 3.8.16 ('txgnn_env')",
   "language": "python",
   "name": "python3"
  },
  "language_info": {
   "codemirror_mode": {
    "name": "ipython",
    "version": 3
   },
   "file_extension": ".py",
   "mimetype": "text/x-python",
   "name": "python",
   "nbconvert_exporter": "python",
   "pygments_lexer": "ipython3",
   "version": "3.8.16"
  },
  "orig_nbformat": 4,
  "vscode": {
   "interpreter": {
    "hash": "79cb95e61c4f960f4e102f21c45668d32cb5c494b237694c15d64b50342e6e99"
   }
  }
 },
 "nbformat": 4,
 "nbformat_minor": 2
}
