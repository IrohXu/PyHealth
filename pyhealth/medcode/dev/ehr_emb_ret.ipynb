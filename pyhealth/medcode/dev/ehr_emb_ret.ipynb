{
 "cells": [
  {
   "cell_type": "code",
   "execution_count": 2,
   "metadata": {},
   "outputs": [
    {
     "name": "stderr",
     "output_type": "stream",
     "text": [
      "/home/pj20/miniconda3/envs/txgnn_env/lib/python3.8/site-packages/tqdm/auto.py:21: TqdmWarning: IProgress not found. Please update jupyter and ipywidgets. See https://ipywidgets.readthedocs.io/en/stable/user_install.html\n",
      "  from .autonotebook import tqdm as notebook_tqdm\n"
     ]
    }
   ],
   "source": [
    "import csv\n",
    "from pyhealth.medcode.pretrained_embeddings.lm_emb.retriever import embedding_retrieve as embedding_retriever\n",
    "import numpy as np\n",
    "from tqdm import tqdm\n",
    "import pickle\n",
    "\n",
    "ccscm_id2name = {}\n",
    "with open('../resource/CCSCM.csv', 'r') as f:\n",
    "    lines = f.readlines()\n",
    "    for line in lines[1:]:\n",
    "        line = line.strip().split(',')\n",
    "        ccscm_id2name[line[0]] = line[1].lower()\n",
    "\n",
    "ccsproc_id2name = {}\n",
    "with open('../resource/CCSPROC.csv', 'r') as f:\n",
    "    lines = f.readlines()\n",
    "    for line in lines[1:]:\n",
    "        line = line.strip().split(',')\n",
    "        ccsproc_id2name[line[0]] = line[1].lower()\n",
    "\n",
    "atc3_id2name = {}\n",
    "with open(\"../resource/ATC.csv\", newline='') as csvfile:\n",
    "    reader = csv.DictReader(csvfile)\n",
    "    for row in reader:\n",
    "        if row['level'] == '3.0':\n",
    "            atc3_id2name[row['code']] = row['name'].lower()"
   ]
  },
  {
   "cell_type": "code",
   "execution_count": null,
   "metadata": {},
   "outputs": [],
   "source": [
    "ccscm_id2emb = {}\n",
    "for key in tqdm(ccscm_id2name.keys()):\n",
    "    emb = embedding_retriever(term=ccscm_id2name[key])\n",
    "    ccscm_id2emb[key] = emb\n",
    "\n",
    "with open(f\"../resource/embeddings/conditions/ccscm.pkl\", \"wb\") as f:\n",
    "    pickle.dump(ccscm_id2emb, f)"
   ]
  },
  {
   "cell_type": "code",
   "execution_count": null,
   "metadata": {},
   "outputs": [],
   "source": [
    "ccsproc_id2emb = {}\n",
    "for key in tqdm(ccsproc_id2name.keys()):\n",
    "    emb = embedding_retriever(term=ccsproc_id2name[key])\n",
    "    ccsproc_id2emb[key] = emb\n",
    "\n",
    "with open(f\"../resource/embeddings/procedures/ccsproc.pkl\", \"wb\") as f:\n",
    "    pickle.dump(ccsproc_id2emb, f)"
   ]
  },
  {
   "cell_type": "code",
   "execution_count": null,
   "metadata": {},
   "outputs": [],
   "source": [
    "atc3_id2emb = {}\n",
    "for key in tqdm(atc3_id2name.keys()):\n",
    "    emb = embedding_retriever(term=atc3_id2name[key])\n",
    "    atc3_id2emb[key] = emb\n",
    "\n",
    "with open(f\"../resource/embeddings/drugs/atc3.pkl\", \"wb\") as f:\n",
    "    pickle.dump(atc3_id2emb, f)"
   ]
  },
  {
   "cell_type": "code",
   "execution_count": 5,
   "metadata": {},
   "outputs": [
    {
     "name": "stderr",
     "output_type": "stream",
     "text": [
      "100%|██████████| 2/2 [00:00<00:00,  3.34it/s]\n"
     ]
    }
   ],
   "source": [
    "st_id2emb = {}\n",
    "special_tokens = [\"<pad>\", \"<unk>\"]\n",
    "\n",
    "for token in tqdm(special_tokens):\n",
    "    emb = embedding_retriever(term=token)\n",
    "    st_id2emb[token] = emb\n",
    "\n",
    "with open(f\"../resource/special_tokens_emb.pkl\", \"wb\") as f:\n",
    "    pickle.dump(st_id2emb, f)"
   ]
  },
  {
   "cell_type": "code",
   "execution_count": null,
   "metadata": {},
   "outputs": [],
   "source": []
  }
 ],
 "metadata": {
  "kernelspec": {
   "display_name": "Python 3.8.16 ('txgnn_env')",
   "language": "python",
   "name": "python3"
  },
  "language_info": {
   "codemirror_mode": {
    "name": "ipython",
    "version": 3
   },
   "file_extension": ".py",
   "mimetype": "text/x-python",
   "name": "python",
   "nbconvert_exporter": "python",
   "pygments_lexer": "ipython3",
   "version": "3.8.16"
  },
  "orig_nbformat": 4,
  "vscode": {
   "interpreter": {
    "hash": "79cb95e61c4f960f4e102f21c45668d32cb5c494b237694c15d64b50342e6e99"
   }
  }
 },
 "nbformat": 4,
 "nbformat_minor": 2
}
